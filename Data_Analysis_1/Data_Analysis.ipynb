{
 "cells": [
  {
   "cell_type": "code",
   "execution_count": 48,
   "metadata": {
    "scrolled": true
   },
   "outputs": [],
   "source": [
    "import pandas as pd\n",
    "import numpy as np\n",
    "from tqdm import tqdm"
   ]
  },
  {
   "cell_type": "code",
   "execution_count": 61,
   "metadata": {},
   "outputs": [
    {
     "name": "stdout",
     "output_type": "stream",
     "text": [
      "(28434, 2) (49, 14)\n"
     ]
    }
   ],
   "source": [
    "address = pd.read_csv('addresses.csv')\n",
    "data = pd.read_csv('source2.csv')\n",
    "print(address.shape, data.shape)"
   ]
  },
  {
   "cell_type": "code",
   "execution_count": 63,
   "metadata": {},
   "outputs": [
    {
     "data": {
      "text/html": [
       "<div>\n",
       "<style scoped>\n",
       "    .dataframe tbody tr th:only-of-type {\n",
       "        vertical-align: middle;\n",
       "    }\n",
       "\n",
       "    .dataframe tbody tr th {\n",
       "        vertical-align: top;\n",
       "    }\n",
       "\n",
       "    .dataframe thead th {\n",
       "        text-align: right;\n",
       "    }\n",
       "</style>\n",
       "<table border=\"1\" class=\"dataframe\">\n",
       "  <thead>\n",
       "    <tr style=\"text-align: right;\">\n",
       "      <th></th>\n",
       "      <th>address</th>\n",
       "      <th>school</th>\n",
       "    </tr>\n",
       "  </thead>\n",
       "  <tbody>\n",
       "    <tr>\n",
       "      <th>0</th>\n",
       "      <td>1900 Aaron Dr</td>\n",
       "      <td>Mayfield</td>\n",
       "    </tr>\n",
       "    <tr>\n",
       "      <th>1</th>\n",
       "      <td>1910 Aaron Dr</td>\n",
       "      <td>Mayfield</td>\n",
       "    </tr>\n",
       "    <tr>\n",
       "      <th>2</th>\n",
       "      <td>1920 Aaron Dr</td>\n",
       "      <td>Mayfield</td>\n",
       "    </tr>\n",
       "    <tr>\n",
       "      <th>3</th>\n",
       "      <td>1925 Aaron Dr</td>\n",
       "      <td>Mayfield</td>\n",
       "    </tr>\n",
       "    <tr>\n",
       "      <th>4</th>\n",
       "      <td>1930 Aaron Dr</td>\n",
       "      <td>Mayfield</td>\n",
       "    </tr>\n",
       "  </tbody>\n",
       "</table>\n",
       "</div>"
      ],
      "text/plain": [
       "         address    school\n",
       "0  1900 Aaron Dr  Mayfield\n",
       "1  1910 Aaron Dr  Mayfield\n",
       "2  1920 Aaron Dr  Mayfield\n",
       "3  1925 Aaron Dr  Mayfield\n",
       "4  1930 Aaron Dr  Mayfield"
      ]
     },
     "execution_count": 63,
     "metadata": {},
     "output_type": "execute_result"
    }
   ],
   "source": [
    "address.head()"
   ]
  },
  {
   "cell_type": "code",
   "execution_count": 64,
   "metadata": {},
   "outputs": [
    {
     "data": {
      "text/html": [
       "<div>\n",
       "<style scoped>\n",
       "    .dataframe tbody tr th:only-of-type {\n",
       "        vertical-align: middle;\n",
       "    }\n",
       "\n",
       "    .dataframe tbody tr th {\n",
       "        vertical-align: top;\n",
       "    }\n",
       "\n",
       "    .dataframe thead th {\n",
       "        text-align: right;\n",
       "    }\n",
       "</style>\n",
       "<table border=\"1\" class=\"dataframe\">\n",
       "  <thead>\n",
       "    <tr style=\"text-align: right;\">\n",
       "      <th></th>\n",
       "      <th>FirstName</th>\n",
       "      <th>LastName</th>\n",
       "      <th>StudentNumber</th>\n",
       "      <th>Gender</th>\n",
       "      <th>Status</th>\n",
       "      <th>SchoolCode</th>\n",
       "      <th>BuildingGrade</th>\n",
       "      <th>Flag1</th>\n",
       "      <th>AddressofresidenceStreet</th>\n",
       "      <th>AddressofresidenceStreet2</th>\n",
       "      <th>AddressofresidenceCity</th>\n",
       "      <th>AddressofresidenceState</th>\n",
       "      <th>AddressofresidenceZip</th>\n",
       "      <th>Building Name</th>\n",
       "    </tr>\n",
       "  </thead>\n",
       "  <tbody>\n",
       "    <tr>\n",
       "      <th>0</th>\n",
       "      <td>John</td>\n",
       "      <td>Doe</td>\n",
       "      <td>1</td>\n",
       "      <td>F</td>\n",
       "      <td>A</td>\n",
       "      <td>MIAM</td>\n",
       "      <td>1</td>\n",
       "      <td>NaN</td>\n",
       "      <td>3103 Roslyn Dr</td>\n",
       "      <td>NaN</td>\n",
       "      <td>Lexington</td>\n",
       "      <td>KY</td>\n",
       "      <td>40502</td>\n",
       "      <td>NaN</td>\n",
       "    </tr>\n",
       "    <tr>\n",
       "      <th>1</th>\n",
       "      <td>John</td>\n",
       "      <td>Doe</td>\n",
       "      <td>2</td>\n",
       "      <td>M</td>\n",
       "      <td>A</td>\n",
       "      <td>MICR</td>\n",
       "      <td>5</td>\n",
       "      <td>NaN</td>\n",
       "      <td>603 Gideon Rd</td>\n",
       "      <td>NaN</td>\n",
       "      <td>Lexington</td>\n",
       "      <td>KY</td>\n",
       "      <td>40502</td>\n",
       "      <td>NaN</td>\n",
       "    </tr>\n",
       "    <tr>\n",
       "      <th>2</th>\n",
       "      <td>John</td>\n",
       "      <td>Doe</td>\n",
       "      <td>3</td>\n",
       "      <td>F</td>\n",
       "      <td>A</td>\n",
       "      <td>MIRP</td>\n",
       "      <td>1</td>\n",
       "      <td>NaN</td>\n",
       "      <td>604 15th Ave</td>\n",
       "      <td>NaN</td>\n",
       "      <td>Lexington</td>\n",
       "      <td>KY</td>\n",
       "      <td>40502</td>\n",
       "      <td>NaN</td>\n",
       "    </tr>\n",
       "    <tr>\n",
       "      <th>3</th>\n",
       "      <td>John</td>\n",
       "      <td>Doe</td>\n",
       "      <td>4</td>\n",
       "      <td>M</td>\n",
       "      <td>A</td>\n",
       "      <td>MICR</td>\n",
       "      <td>KG</td>\n",
       "      <td>NaN</td>\n",
       "      <td>6930 Mount Vernon St Apt 20</td>\n",
       "      <td>NaN</td>\n",
       "      <td>Lexington</td>\n",
       "      <td>KY</td>\n",
       "      <td>40502</td>\n",
       "      <td>NaN</td>\n",
       "    </tr>\n",
       "    <tr>\n",
       "      <th>4</th>\n",
       "      <td>John</td>\n",
       "      <td>Doe</td>\n",
       "      <td>5</td>\n",
       "      <td>F</td>\n",
       "      <td>A</td>\n",
       "      <td>MICR</td>\n",
       "      <td>KG</td>\n",
       "      <td>1.0</td>\n",
       "      <td>4761 Caprice Dr</td>\n",
       "      <td>NaN</td>\n",
       "      <td>Lexington</td>\n",
       "      <td>KY</td>\n",
       "      <td>40502</td>\n",
       "      <td>NaN</td>\n",
       "    </tr>\n",
       "  </tbody>\n",
       "</table>\n",
       "</div>"
      ],
      "text/plain": [
       "  FirstName LastName  StudentNumber Gender Status SchoolCode BuildingGrade  \\\n",
       "0      John      Doe              1      F      A       MIAM             1   \n",
       "1      John      Doe              2      M      A       MICR             5   \n",
       "2      John      Doe              3      F      A       MIRP             1   \n",
       "3      John      Doe              4      M      A       MICR            KG   \n",
       "4      John      Doe              5      F      A       MICR            KG   \n",
       "\n",
       "   Flag1     AddressofresidenceStreet  AddressofresidenceStreet2  \\\n",
       "0    NaN               3103 Roslyn Dr                        NaN   \n",
       "1    NaN                603 Gideon Rd                        NaN   \n",
       "2    NaN                 604 15th Ave                        NaN   \n",
       "3    NaN  6930 Mount Vernon St Apt 20                        NaN   \n",
       "4    1.0              4761 Caprice Dr                        NaN   \n",
       "\n",
       "  AddressofresidenceCity AddressofresidenceState  AddressofresidenceZip  \\\n",
       "0              Lexington                      KY                  40502   \n",
       "1              Lexington                      KY                  40502   \n",
       "2              Lexington                      KY                  40502   \n",
       "3              Lexington                      KY                  40502   \n",
       "4              Lexington                      KY                  40502   \n",
       "\n",
       "   Building Name  \n",
       "0            NaN  \n",
       "1            NaN  \n",
       "2            NaN  \n",
       "3            NaN  \n",
       "4            NaN  "
      ]
     },
     "execution_count": 64,
     "metadata": {},
     "output_type": "execute_result"
    }
   ],
   "source": [
    "data.head()"
   ]
  },
  {
   "cell_type": "code",
   "execution_count": 73,
   "metadata": {},
   "outputs": [
    {
     "name": "stdout",
     "output_type": "stream",
     "text": [
      "Wall time: 42.3 s\n"
     ]
    }
   ],
   "source": [
    "%%time\n",
    "\n",
    "buildings = [np.NaN] * data.shape[0]\n",
    "for i,row in address.iterrows():\n",
    "    try:\n",
    "        idxs = data[data['AddressofresidenceStreet'].str.contains(row['address'])].index.values.astype(int)\n",
    "        for idx in idxs:\n",
    "            buildings[idx] = row['school']\n",
    "    except IndexError as err:\n",
    "        pass"
   ]
  },
  {
   "cell_type": "code",
   "execution_count": 68,
   "metadata": {},
   "outputs": [
    {
     "data": {
      "text/plain": [
       "49"
      ]
     },
     "execution_count": 68,
     "metadata": {},
     "output_type": "execute_result"
    }
   ],
   "source": [
    "len(buildings)"
   ]
  },
  {
   "cell_type": "code",
   "execution_count": 74,
   "metadata": {},
   "outputs": [
    {
     "data": {
      "text/plain": [
       "(41, 14)"
      ]
     },
     "execution_count": 74,
     "metadata": {},
     "output_type": "execute_result"
    }
   ],
   "source": [
    "data['Building Name'] = buildings\n",
    "data[data['Building Name'].notnull()].shape"
   ]
  },
  {
   "cell_type": "code",
   "execution_count": 75,
   "metadata": {},
   "outputs": [
    {
     "data": {
      "text/html": [
       "<div>\n",
       "<style scoped>\n",
       "    .dataframe tbody tr th:only-of-type {\n",
       "        vertical-align: middle;\n",
       "    }\n",
       "\n",
       "    .dataframe tbody tr th {\n",
       "        vertical-align: top;\n",
       "    }\n",
       "\n",
       "    .dataframe thead th {\n",
       "        text-align: right;\n",
       "    }\n",
       "</style>\n",
       "<table border=\"1\" class=\"dataframe\">\n",
       "  <thead>\n",
       "    <tr style=\"text-align: right;\">\n",
       "      <th></th>\n",
       "      <th>FirstName</th>\n",
       "      <th>LastName</th>\n",
       "      <th>StudentNumber</th>\n",
       "      <th>Gender</th>\n",
       "      <th>Status</th>\n",
       "      <th>SchoolCode</th>\n",
       "      <th>BuildingGrade</th>\n",
       "      <th>Flag1</th>\n",
       "      <th>AddressofresidenceStreet</th>\n",
       "      <th>AddressofresidenceStreet2</th>\n",
       "      <th>AddressofresidenceCity</th>\n",
       "      <th>AddressofresidenceState</th>\n",
       "      <th>AddressofresidenceZip</th>\n",
       "      <th>Building Name</th>\n",
       "    </tr>\n",
       "  </thead>\n",
       "  <tbody>\n",
       "    <tr>\n",
       "      <th>0</th>\n",
       "      <td>John</td>\n",
       "      <td>Doe</td>\n",
       "      <td>1</td>\n",
       "      <td>F</td>\n",
       "      <td>A</td>\n",
       "      <td>MIAM</td>\n",
       "      <td>1</td>\n",
       "      <td>NaN</td>\n",
       "      <td>3103 Roslyn Dr</td>\n",
       "      <td>NaN</td>\n",
       "      <td>Lexington</td>\n",
       "      <td>KY</td>\n",
       "      <td>40502</td>\n",
       "      <td>Amanda</td>\n",
       "    </tr>\n",
       "    <tr>\n",
       "      <th>1</th>\n",
       "      <td>John</td>\n",
       "      <td>Doe</td>\n",
       "      <td>2</td>\n",
       "      <td>M</td>\n",
       "      <td>A</td>\n",
       "      <td>MICR</td>\n",
       "      <td>5</td>\n",
       "      <td>NaN</td>\n",
       "      <td>603 Gideon Rd</td>\n",
       "      <td>NaN</td>\n",
       "      <td>Lexington</td>\n",
       "      <td>KY</td>\n",
       "      <td>40502</td>\n",
       "      <td>Creekview</td>\n",
       "    </tr>\n",
       "    <tr>\n",
       "      <th>2</th>\n",
       "      <td>John</td>\n",
       "      <td>Doe</td>\n",
       "      <td>3</td>\n",
       "      <td>F</td>\n",
       "      <td>A</td>\n",
       "      <td>MIRP</td>\n",
       "      <td>1</td>\n",
       "      <td>NaN</td>\n",
       "      <td>604 15th Ave</td>\n",
       "      <td>NaN</td>\n",
       "      <td>Lexington</td>\n",
       "      <td>KY</td>\n",
       "      <td>40502</td>\n",
       "      <td>NaN</td>\n",
       "    </tr>\n",
       "    <tr>\n",
       "      <th>3</th>\n",
       "      <td>John</td>\n",
       "      <td>Doe</td>\n",
       "      <td>4</td>\n",
       "      <td>M</td>\n",
       "      <td>A</td>\n",
       "      <td>MICR</td>\n",
       "      <td>KG</td>\n",
       "      <td>NaN</td>\n",
       "      <td>6930 Mount Vernon St Apt 20</td>\n",
       "      <td>NaN</td>\n",
       "      <td>Lexington</td>\n",
       "      <td>KY</td>\n",
       "      <td>40502</td>\n",
       "      <td>Creekview</td>\n",
       "    </tr>\n",
       "    <tr>\n",
       "      <th>4</th>\n",
       "      <td>John</td>\n",
       "      <td>Doe</td>\n",
       "      <td>5</td>\n",
       "      <td>F</td>\n",
       "      <td>A</td>\n",
       "      <td>MICR</td>\n",
       "      <td>KG</td>\n",
       "      <td>1.0</td>\n",
       "      <td>4761 Caprice Dr</td>\n",
       "      <td>NaN</td>\n",
       "      <td>Lexington</td>\n",
       "      <td>KY</td>\n",
       "      <td>40502</td>\n",
       "      <td>Creekview</td>\n",
       "    </tr>\n",
       "  </tbody>\n",
       "</table>\n",
       "</div>"
      ],
      "text/plain": [
       "  FirstName LastName  StudentNumber Gender Status SchoolCode BuildingGrade  \\\n",
       "0      John      Doe              1      F      A       MIAM             1   \n",
       "1      John      Doe              2      M      A       MICR             5   \n",
       "2      John      Doe              3      F      A       MIRP             1   \n",
       "3      John      Doe              4      M      A       MICR            KG   \n",
       "4      John      Doe              5      F      A       MICR            KG   \n",
       "\n",
       "   Flag1     AddressofresidenceStreet  AddressofresidenceStreet2  \\\n",
       "0    NaN               3103 Roslyn Dr                        NaN   \n",
       "1    NaN                603 Gideon Rd                        NaN   \n",
       "2    NaN                 604 15th Ave                        NaN   \n",
       "3    NaN  6930 Mount Vernon St Apt 20                        NaN   \n",
       "4    1.0              4761 Caprice Dr                        NaN   \n",
       "\n",
       "  AddressofresidenceCity AddressofresidenceState  AddressofresidenceZip  \\\n",
       "0              Lexington                      KY                  40502   \n",
       "1              Lexington                      KY                  40502   \n",
       "2              Lexington                      KY                  40502   \n",
       "3              Lexington                      KY                  40502   \n",
       "4              Lexington                      KY                  40502   \n",
       "\n",
       "  Building Name  \n",
       "0        Amanda  \n",
       "1     Creekview  \n",
       "2           NaN  \n",
       "3     Creekview  \n",
       "4     Creekview  "
      ]
     },
     "execution_count": 75,
     "metadata": {},
     "output_type": "execute_result"
    }
   ],
   "source": [
    "data.head()"
   ]
  },
  {
   "cell_type": "code",
   "execution_count": 77,
   "metadata": {},
   "outputs": [
    {
     "data": {
      "text/html": [
       "<div>\n",
       "<style scoped>\n",
       "    .dataframe tbody tr th:only-of-type {\n",
       "        vertical-align: middle;\n",
       "    }\n",
       "\n",
       "    .dataframe tbody tr th {\n",
       "        vertical-align: top;\n",
       "    }\n",
       "\n",
       "    .dataframe thead th {\n",
       "        text-align: right;\n",
       "    }\n",
       "</style>\n",
       "<table border=\"1\" class=\"dataframe\">\n",
       "  <thead>\n",
       "    <tr style=\"text-align: right;\">\n",
       "      <th></th>\n",
       "      <th>FirstName</th>\n",
       "      <th>LastName</th>\n",
       "      <th>StudentNumber</th>\n",
       "      <th>Gender</th>\n",
       "      <th>Status</th>\n",
       "      <th>SchoolCode</th>\n",
       "      <th>BuildingGrade</th>\n",
       "      <th>Flag1</th>\n",
       "      <th>AddressofresidenceStreet</th>\n",
       "      <th>AddressofresidenceStreet2</th>\n",
       "      <th>AddressofresidenceCity</th>\n",
       "      <th>AddressofresidenceState</th>\n",
       "      <th>AddressofresidenceZip</th>\n",
       "      <th>Building Name</th>\n",
       "    </tr>\n",
       "  </thead>\n",
       "  <tbody>\n",
       "    <tr>\n",
       "      <th>46</th>\n",
       "      <td>John</td>\n",
       "      <td>Doe</td>\n",
       "      <td>47</td>\n",
       "      <td>M</td>\n",
       "      <td>A</td>\n",
       "      <td>MIMR</td>\n",
       "      <td>4</td>\n",
       "      <td>NaN</td>\n",
       "      <td>4809 Longford Dr</td>\n",
       "      <td>NaN</td>\n",
       "      <td>Lexington</td>\n",
       "      <td>KY</td>\n",
       "      <td>40502</td>\n",
       "      <td>Miller Ridge</td>\n",
       "    </tr>\n",
       "  </tbody>\n",
       "</table>\n",
       "</div>"
      ],
      "text/plain": [
       "   FirstName LastName  StudentNumber Gender Status SchoolCode BuildingGrade  \\\n",
       "46      John      Doe             47      M      A       MIMR             4   \n",
       "\n",
       "    Flag1 AddressofresidenceStreet  AddressofresidenceStreet2  \\\n",
       "46    NaN         4809 Longford Dr                        NaN   \n",
       "\n",
       "   AddressofresidenceCity AddressofresidenceState  AddressofresidenceZip  \\\n",
       "46              Lexington                      KY                  40502   \n",
       "\n",
       "   Building Name  \n",
       "46  Miller Ridge  "
      ]
     },
     "execution_count": 77,
     "metadata": {},
     "output_type": "execute_result"
    }
   ],
   "source": [
    "data[data['StudentNumber'] == 47]"
   ]
  },
  {
   "cell_type": "code",
   "execution_count": 72,
   "metadata": {},
   "outputs": [
    {
     "data": {
      "text/plain": [
       "array([44, 45])"
      ]
     },
     "execution_count": 72,
     "metadata": {},
     "output_type": "execute_result"
    }
   ],
   "source": [
    "data[data['AddressofresidenceStreet'].str.contains('5007 Woodridge Dr')].index.values.astype(int)"
   ]
  },
  {
   "cell_type": "code",
   "execution_count": 71,
   "metadata": {},
   "outputs": [
    {
     "data": {
      "text/plain": [
       "'Miller Ridge'"
      ]
     },
     "execution_count": 71,
     "metadata": {},
     "output_type": "execute_result"
    }
   ],
   "source": [
    "buildings[46]"
   ]
  }
 ],
 "metadata": {
  "kernelspec": {
   "display_name": "Python 3",
   "language": "python",
   "name": "python3"
  },
  "language_info": {
   "codemirror_mode": {
    "name": "ipython",
    "version": 3
   },
   "file_extension": ".py",
   "mimetype": "text/x-python",
   "name": "python",
   "nbconvert_exporter": "python",
   "pygments_lexer": "ipython3",
   "version": "3.6.4"
  }
 },
 "nbformat": 4,
 "nbformat_minor": 2
}
